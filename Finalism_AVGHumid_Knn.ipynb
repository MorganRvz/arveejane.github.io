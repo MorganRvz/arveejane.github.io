{
 "cells": [
  {
   "cell_type": "code",
   "execution_count": 10,
   "metadata": {},
   "outputs": [],
   "source": [
    "import pandas as pd\n",
    "import numpy as np\n",
    "from sklearn.model_selection import train_test_split, GridSearchCV\n",
    "from sklearn.pipeline import Pipeline\n",
    "from sklearn.preprocessing import PowerTransformer, StandardScaler\n",
    "from sklearn.experimental import enable_iterative_imputer\n",
    "from sklearn.impute import IterativeImputer\n",
    "from sklearn.impute import SimpleImputer\n",
    "from sklearn.neighbors import KNeighborsRegressor\n",
    "from sklearn.metrics import mean_squared_error, r2_score\n",
    "from sklearn.feature_selection import VarianceThreshold"
   ]
  },
  {
   "cell_type": "code",
   "execution_count": 11,
   "metadata": {},
   "outputs": [
    {
     "data": {
      "text/html": [
       "<div>\n",
       "<style scoped>\n",
       "    .dataframe tbody tr th:only-of-type {\n",
       "        vertical-align: middle;\n",
       "    }\n",
       "\n",
       "    .dataframe tbody tr th {\n",
       "        vertical-align: top;\n",
       "    }\n",
       "\n",
       "    .dataframe thead th {\n",
       "        text-align: right;\n",
       "    }\n",
       "</style>\n",
       "<table border=\"1\" class=\"dataframe\">\n",
       "  <thead>\n",
       "    <tr style=\"text-align: right;\">\n",
       "      <th></th>\n",
       "      <th>Avg_Wind</th>\n",
       "      <th>Avg_Temp</th>\n",
       "      <th>Avg_Humidity</th>\n",
       "      <th>Avg_Barometer</th>\n",
       "      <th>Avg_Visbility</th>\n",
       "    </tr>\n",
       "  </thead>\n",
       "  <tbody>\n",
       "    <tr>\n",
       "      <th>0</th>\n",
       "      <td>6.13</td>\n",
       "      <td>28.88</td>\n",
       "      <td>0.72</td>\n",
       "      <td>1012.00</td>\n",
       "      <td>15.00</td>\n",
       "    </tr>\n",
       "    <tr>\n",
       "      <th>1</th>\n",
       "      <td>5.00</td>\n",
       "      <td>25.88</td>\n",
       "      <td>0.86</td>\n",
       "      <td>1012.63</td>\n",
       "      <td>10.13</td>\n",
       "    </tr>\n",
       "    <tr>\n",
       "      <th>2</th>\n",
       "      <td>4.75</td>\n",
       "      <td>26.38</td>\n",
       "      <td>0.85</td>\n",
       "      <td>1011.75</td>\n",
       "      <td>11.63</td>\n",
       "    </tr>\n",
       "    <tr>\n",
       "      <th>3</th>\n",
       "      <td>3.88</td>\n",
       "      <td>26.88</td>\n",
       "      <td>0.78</td>\n",
       "      <td>1010.00</td>\n",
       "      <td>13.13</td>\n",
       "    </tr>\n",
       "    <tr>\n",
       "      <th>4</th>\n",
       "      <td>4.38</td>\n",
       "      <td>26.88</td>\n",
       "      <td>0.81</td>\n",
       "      <td>1010.63</td>\n",
       "      <td>13.88</td>\n",
       "    </tr>\n",
       "    <tr>\n",
       "      <th>...</th>\n",
       "      <td>...</td>\n",
       "      <td>...</td>\n",
       "      <td>...</td>\n",
       "      <td>...</td>\n",
       "      <td>...</td>\n",
       "    </tr>\n",
       "    <tr>\n",
       "      <th>1456</th>\n",
       "      <td>4.50</td>\n",
       "      <td>28.38</td>\n",
       "      <td>0.80</td>\n",
       "      <td>1013.38</td>\n",
       "      <td>12.63</td>\n",
       "    </tr>\n",
       "    <tr>\n",
       "      <th>1457</th>\n",
       "      <td>5.50</td>\n",
       "      <td>28.88</td>\n",
       "      <td>0.80</td>\n",
       "      <td>1012.13</td>\n",
       "      <td>13.88</td>\n",
       "    </tr>\n",
       "    <tr>\n",
       "      <th>1458</th>\n",
       "      <td>4.75</td>\n",
       "      <td>28.50</td>\n",
       "      <td>0.80</td>\n",
       "      <td>1010.50</td>\n",
       "      <td>13.25</td>\n",
       "    </tr>\n",
       "    <tr>\n",
       "      <th>1459</th>\n",
       "      <td>4.38</td>\n",
       "      <td>28.88</td>\n",
       "      <td>0.82</td>\n",
       "      <td>1010.25</td>\n",
       "      <td>13.50</td>\n",
       "    </tr>\n",
       "    <tr>\n",
       "      <th>1460</th>\n",
       "      <td>4.63</td>\n",
       "      <td>29.25</td>\n",
       "      <td>0.80</td>\n",
       "      <td>1010.38</td>\n",
       "      <td>13.50</td>\n",
       "    </tr>\n",
       "  </tbody>\n",
       "</table>\n",
       "<p>1461 rows × 5 columns</p>\n",
       "</div>"
      ],
      "text/plain": [
       "      Avg_Wind  Avg_Temp  Avg_Humidity  Avg_Barometer  Avg_Visbility\n",
       "0         6.13     28.88          0.72        1012.00          15.00\n",
       "1         5.00     25.88          0.86        1012.63          10.13\n",
       "2         4.75     26.38          0.85        1011.75          11.63\n",
       "3         3.88     26.88          0.78        1010.00          13.13\n",
       "4         4.38     26.88          0.81        1010.63          13.88\n",
       "...        ...       ...           ...            ...            ...\n",
       "1456      4.50     28.38          0.80        1013.38          12.63\n",
       "1457      5.50     28.88          0.80        1012.13          13.88\n",
       "1458      4.75     28.50          0.80        1010.50          13.25\n",
       "1459      4.38     28.88          0.82        1010.25          13.50\n",
       "1460      4.63     29.25          0.80        1010.38          13.50\n",
       "\n",
       "[1461 rows x 5 columns]"
      ]
     },
     "execution_count": 11,
     "metadata": {},
     "output_type": "execute_result"
    }
   ],
   "source": [
    "# Load data\n",
    "air_data = pd.read_csv(\"airdata.csv\")  # Data\n",
    "air_data"
   ]
  },
  {
   "cell_type": "code",
   "execution_count": 12,
   "metadata": {},
   "outputs": [
    {
     "data": {
      "text/plain": [
       "Avg_Wind         4\n",
       "Avg_Temp         4\n",
       "Avg_Humidity     4\n",
       "Avg_Barometer    4\n",
       "Avg_Visbility    4\n",
       "dtype: int64"
      ]
     },
     "execution_count": 12,
     "metadata": {},
     "output_type": "execute_result"
    }
   ],
   "source": [
    "air_data.isna().sum() "
   ]
  },
  {
   "cell_type": "markdown",
   "metadata": {},
   "source": [
    "Removing the missing values"
   ]
  },
  {
   "cell_type": "code",
   "execution_count": null,
   "metadata": {},
   "outputs": [],
   "source": [
    "df = air_data.dropna() # Removing the Missing values"
   ]
  },
  {
   "cell_type": "code",
   "execution_count": null,
   "metadata": {},
   "outputs": [
    {
     "data": {
      "text/plain": [
       "Avg_Wind         0\n",
       "Avg_Temp         0\n",
       "Avg_Humidity     0\n",
       "Avg_Barometer    0\n",
       "Avg_Visbility    0\n",
       "dtype: int64"
      ]
     },
     "execution_count": 14,
     "metadata": {},
     "output_type": "execute_result"
    }
   ],
   "source": [
    "df.isna().sum() # Checking if there any Missing Values"
   ]
  },
  {
   "cell_type": "code",
   "execution_count": null,
   "metadata": {},
   "outputs": [
    {
     "data": {
      "text/html": [
       "<div>\n",
       "<style scoped>\n",
       "    .dataframe tbody tr th:only-of-type {\n",
       "        vertical-align: middle;\n",
       "    }\n",
       "\n",
       "    .dataframe tbody tr th {\n",
       "        vertical-align: top;\n",
       "    }\n",
       "\n",
       "    .dataframe thead th {\n",
       "        text-align: right;\n",
       "    }\n",
       "</style>\n",
       "<table border=\"1\" class=\"dataframe\">\n",
       "  <thead>\n",
       "    <tr style=\"text-align: right;\">\n",
       "      <th></th>\n",
       "      <th>Avg_Wind</th>\n",
       "      <th>Avg_Temp</th>\n",
       "      <th>Avg_Barometer</th>\n",
       "      <th>Avg_Visbility</th>\n",
       "    </tr>\n",
       "  </thead>\n",
       "  <tbody>\n",
       "    <tr>\n",
       "      <th>0</th>\n",
       "      <td>6.13</td>\n",
       "      <td>28.88</td>\n",
       "      <td>1012.00</td>\n",
       "      <td>15.00</td>\n",
       "    </tr>\n",
       "    <tr>\n",
       "      <th>1</th>\n",
       "      <td>5.00</td>\n",
       "      <td>25.88</td>\n",
       "      <td>1012.63</td>\n",
       "      <td>10.13</td>\n",
       "    </tr>\n",
       "    <tr>\n",
       "      <th>2</th>\n",
       "      <td>4.75</td>\n",
       "      <td>26.38</td>\n",
       "      <td>1011.75</td>\n",
       "      <td>11.63</td>\n",
       "    </tr>\n",
       "    <tr>\n",
       "      <th>3</th>\n",
       "      <td>3.88</td>\n",
       "      <td>26.88</td>\n",
       "      <td>1010.00</td>\n",
       "      <td>13.13</td>\n",
       "    </tr>\n",
       "    <tr>\n",
       "      <th>4</th>\n",
       "      <td>4.38</td>\n",
       "      <td>26.88</td>\n",
       "      <td>1010.63</td>\n",
       "      <td>13.88</td>\n",
       "    </tr>\n",
       "    <tr>\n",
       "      <th>...</th>\n",
       "      <td>...</td>\n",
       "      <td>...</td>\n",
       "      <td>...</td>\n",
       "      <td>...</td>\n",
       "    </tr>\n",
       "    <tr>\n",
       "      <th>1456</th>\n",
       "      <td>4.50</td>\n",
       "      <td>28.38</td>\n",
       "      <td>1013.38</td>\n",
       "      <td>12.63</td>\n",
       "    </tr>\n",
       "    <tr>\n",
       "      <th>1457</th>\n",
       "      <td>5.50</td>\n",
       "      <td>28.88</td>\n",
       "      <td>1012.13</td>\n",
       "      <td>13.88</td>\n",
       "    </tr>\n",
       "    <tr>\n",
       "      <th>1458</th>\n",
       "      <td>4.75</td>\n",
       "      <td>28.50</td>\n",
       "      <td>1010.50</td>\n",
       "      <td>13.25</td>\n",
       "    </tr>\n",
       "    <tr>\n",
       "      <th>1459</th>\n",
       "      <td>4.38</td>\n",
       "      <td>28.88</td>\n",
       "      <td>1010.25</td>\n",
       "      <td>13.50</td>\n",
       "    </tr>\n",
       "    <tr>\n",
       "      <th>1460</th>\n",
       "      <td>4.63</td>\n",
       "      <td>29.25</td>\n",
       "      <td>1010.38</td>\n",
       "      <td>13.50</td>\n",
       "    </tr>\n",
       "  </tbody>\n",
       "</table>\n",
       "<p>1457 rows × 4 columns</p>\n",
       "</div>"
      ],
      "text/plain": [
       "      Avg_Wind  Avg_Temp  Avg_Barometer  Avg_Visbility\n",
       "0         6.13     28.88        1012.00          15.00\n",
       "1         5.00     25.88        1012.63          10.13\n",
       "2         4.75     26.38        1011.75          11.63\n",
       "3         3.88     26.88        1010.00          13.13\n",
       "4         4.38     26.88        1010.63          13.88\n",
       "...        ...       ...            ...            ...\n",
       "1456      4.50     28.38        1013.38          12.63\n",
       "1457      5.50     28.88        1012.13          13.88\n",
       "1458      4.75     28.50        1010.50          13.25\n",
       "1459      4.38     28.88        1010.25          13.50\n",
       "1460      4.63     29.25        1010.38          13.50\n",
       "\n",
       "[1457 rows x 4 columns]"
      ]
     },
     "execution_count": 15,
     "metadata": {},
     "output_type": "execute_result"
    }
   ],
   "source": [
    "X =df.drop(columns=[\"Avg_Humidity\"]) #Assigning X as the input variables\n",
    "X"
   ]
  },
  {
   "cell_type": "code",
   "execution_count": null,
   "metadata": {},
   "outputs": [
    {
     "data": {
      "text/plain": [
       "0       0.72\n",
       "1       0.86\n",
       "2       0.85\n",
       "3       0.78\n",
       "4       0.81\n",
       "        ... \n",
       "1456    0.80\n",
       "1457    0.80\n",
       "1458    0.80\n",
       "1459    0.82\n",
       "1460    0.80\n",
       "Name: Avg_Humidity, Length: 1457, dtype: float64"
      ]
     },
     "execution_count": 16,
     "metadata": {},
     "output_type": "execute_result"
    }
   ],
   "source": [
    "y = df[\"Avg_Humidity\"] #Assigning Y as the outcome variable (Avg_Humidity)\n",
    "y"
   ]
  },
  {
   "cell_type": "markdown",
   "metadata": {},
   "source": [
    "### Data Splitting"
   ]
  },
  {
   "cell_type": "code",
   "execution_count": 17,
   "metadata": {},
   "outputs": [],
   "source": [
    "\n",
    "\n",
    "X_train, X_test, y_train, y_test = train_test_split(\n",
    "    X, y, test_size=0.2, stratify=pd.qcut(y, q=10, duplicates=\"drop\"),\n",
    "    random_state=12019, shuffle=True\n",
    ")"
   ]
  },
  {
   "cell_type": "code",
   "execution_count": 18,
   "metadata": {},
   "outputs": [
    {
     "data": {
      "text/plain": [
       "Avg_Wind         1165\n",
       "Avg_Temp         1165\n",
       "Avg_Barometer    1165\n",
       "Avg_Visbility    1165\n",
       "dtype: int64"
      ]
     },
     "execution_count": 18,
     "metadata": {},
     "output_type": "execute_result"
    }
   ],
   "source": [
    "X_train.count()"
   ]
  },
  {
   "cell_type": "code",
   "execution_count": 19,
   "metadata": {},
   "outputs": [
    {
     "data": {
      "text/plain": [
       "Avg_Wind         292\n",
       "Avg_Temp         292\n",
       "Avg_Barometer    292\n",
       "Avg_Visbility    292\n",
       "dtype: int64"
      ]
     },
     "execution_count": 19,
     "metadata": {},
     "output_type": "execute_result"
    }
   ],
   "source": [
    "X_test.count()"
   ]
  },
  {
   "cell_type": "markdown",
   "metadata": {},
   "source": [
    "### Data Preprocessing"
   ]
  },
  {
   "cell_type": "code",
   "execution_count": 20,
   "metadata": {},
   "outputs": [],
   "source": [
    "knn_pipeline = Pipeline([\n",
    "    ('scaler', StandardScaler()), # Standardization\n",
    "    ('knn', KNeighborsRegressor())  # KNN Model\n",
    "])\n"
   ]
  },
  {
   "cell_type": "markdown",
   "metadata": {},
   "source": [
    "### Hyperparameter Grid"
   ]
  },
  {
   "cell_type": "code",
   "execution_count": null,
   "metadata": {},
   "outputs": [],
   "source": [
    "param_grid = { # Hyper Grid\n",
    "    'knn__n_neighbors': list(range(1,25,1)),  # k values\n",
    "    'knn__weights': [ 'distance'],  # Weighting methods\n",
    "    'knn__p': [2]  # Distance metric 2 = Euclidean)\n",
    "}"
   ]
  },
  {
   "cell_type": "markdown",
   "metadata": {},
   "source": [
    "### Grid Search"
   ]
  },
  {
   "cell_type": "code",
   "execution_count": null,
   "metadata": {},
   "outputs": [],
   "source": [
    "grid_search = GridSearchCV( # Training Model\n",
    "    knn_pipeline, param_grid, cv=10, scoring='r2', n_jobs=-1, verbose=1\n",
    ")"
   ]
  },
  {
   "cell_type": "code",
   "execution_count": 23,
   "metadata": {},
   "outputs": [
    {
     "name": "stdout",
     "output_type": "stream",
     "text": [
      "Fitting 10 folds for each of 24 candidates, totalling 240 fits\n",
      "Best Parameters: {'knn__n_neighbors': 24, 'knn__p': 2, 'knn__weights': 'distance'}\n",
      "Best R² Score:0.6254\n"
     ]
    }
   ],
   "source": [
    "# Fit the pipeline with GridSearch\n",
    "grid_search.fit(X_train, y_train)\n",
    "\n",
    "# Best Parameters & Model Training\n",
    "best_params = grid_search.best_params_\n",
    "print(\"Best Parameters:\", best_params)\n",
    "print(f\"Best R² Score:{grid_search.best_score_:.4f}\")\n",
    "\n",
    "# Train Best Model\n",
    "knn_best = grid_search.best_estimator_"
   ]
  },
  {
   "cell_type": "markdown",
   "metadata": {},
   "source": [
    "RMSE Results"
   ]
  },
  {
   "cell_type": "code",
   "execution_count": 24,
   "metadata": {},
   "outputs": [],
   "source": [
    "grid_search = GridSearchCV(\n",
    "    knn_pipeline, param_grid, cv=10, scoring='neg_mean_squared_error', n_jobs=-1, verbose=1\n",
    ")"
   ]
  },
  {
   "cell_type": "code",
   "execution_count": 25,
   "metadata": {},
   "outputs": [
    {
     "name": "stdout",
     "output_type": "stream",
     "text": [
      "Fitting 10 folds for each of 24 candidates, totalling 240 fits\n",
      "Best Parameters: {'knn__n_neighbors': 24, 'knn__p': 2, 'knn__weights': 'distance'}\n",
      "Best MSE: 0.0008401405849885408\n",
      "Best RMSE score: 0.0290\n"
     ]
    }
   ],
   "source": [
    "# Fit the pipeline with GridSearch\n",
    "grid_search.fit(X_train, y_train)\n",
    "\n",
    "# Best Parameters & Model Training\n",
    "best_params = grid_search.best_params_\n",
    "print(\"Best Parameters:\", best_params)\n",
    "print(\"Best MSE:\",np.abs(grid_search.best_score_))\n",
    "\n",
    "RMSE = np.sqrt(0.0008420436770044618)\n",
    "print(f\"Best RMSE score: {RMSE:.4f}\")"
   ]
  },
  {
   "cell_type": "markdown",
   "metadata": {},
   "source": [
    "### MODEL VALIDATION"
   ]
  },
  {
   "cell_type": "code",
   "execution_count": null,
   "metadata": {},
   "outputs": [
    {
     "name": "stdout",
     "output_type": "stream",
     "text": [
      "    set     rmse       rsq\n",
      "0  Test  0.02831  0.671625\n"
     ]
    }
   ],
   "source": [
    "y_test_pred = knn_best.predict(X_test)# Predictions\n",
    "y_test_pred\n",
    "# Metrics Evaluation Function\n",
    "def evaluate(y_true, y_pred, set_name):\n",
    "    return pd.DataFrame({\n",
    "        'set': [set_name],\n",
    "        'rmse': [mean_squared_error(y_true, y_pred, squared=False)],\n",
    "        'rsq': [r2_score(y_true, y_pred)]\n",
    "    })\n",
    "\n",
    "\n",
    "metrics_test = evaluate(y_test, y_test_pred, 'Test')\n",
    "\n",
    "# Display Results\n",
    "knn_metrics = pd.concat([metrics_test])\n",
    "print(knn_metrics)"
   ]
  }
 ],
 "metadata": {
  "kernelspec": {
   "display_name": "base",
   "language": "python",
   "name": "python3"
  },
  "language_info": {
   "codemirror_mode": {
    "name": "ipython",
    "version": 3
   },
   "file_extension": ".py",
   "mimetype": "text/x-python",
   "name": "python",
   "nbconvert_exporter": "python",
   "pygments_lexer": "ipython3",
   "version": "3.11.7"
  }
 },
 "nbformat": 4,
 "nbformat_minor": 2
}
